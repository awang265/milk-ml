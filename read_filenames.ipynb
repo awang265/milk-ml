{
 "cells": [
  {
   "cell_type": "code",
   "execution_count": null,
   "id": "03bbc001",
   "metadata": {},
   "outputs": [],
   "source": [
    "#Goal: read the file names into a list.\n",
    "import os\n",
    "import os.path\n",
    "import glob\n",
    "def read_filenames(filepath):\n",
    "    files = glob.glob(f'{filepath}/*.tif')\n",
    "    tags = []\n",
    "    for file in files:\n",
    "        tags.append(filename)\n",
    "    return tags"
   ]
  }
 ],
 "metadata": {
  "kernelspec": {
   "display_name": "Python 3 (ipykernel)",
   "language": "python",
   "name": "python3"
  },
  "language_info": {
   "codemirror_mode": {
    "name": "ipython",
    "version": 3
   },
   "file_extension": ".py",
   "mimetype": "text/x-python",
   "name": "python",
   "nbconvert_exporter": "python",
   "pygments_lexer": "ipython3",
   "version": "3.9.13"
  }
 },
 "nbformat": 4,
 "nbformat_minor": 5
}
