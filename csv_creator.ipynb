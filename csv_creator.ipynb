{
 "cells": [
  {
   "cell_type": "code",
   "execution_count": 1,
   "id": "df882649",
   "metadata": {},
   "outputs": [],
   "source": [
    "#Goal: take properties from name of tif file and store as fields.\n",
    "#---Given---\n",
    "#Manifest Number\n",
    "#Receipt Date\n",
    "#Receiving Site\n",
    "#---Needed---\n",
    "#Doc Class\n",
    "#Doc Orientation\n",
    "\n",
    "import pandas as pd"
   ]
  },
  {
   "cell_type": "code",
   "execution_count": null,
   "id": "6d50c8d6",
   "metadata": {},
   "outputs": [],
   "source": [
    "#first acquire list of filenames\n"
   ]
  }
 ],
 "metadata": {
  "kernelspec": {
   "display_name": "Python 3 (ipykernel)",
   "language": "python",
   "name": "python3"
  },
  "language_info": {
   "codemirror_mode": {
    "name": "ipython",
    "version": 3
   },
   "file_extension": ".py",
   "mimetype": "text/x-python",
   "name": "python",
   "nbconvert_exporter": "python",
   "pygments_lexer": "ipython3",
   "version": "3.9.13"
  }
 },
 "nbformat": 4,
 "nbformat_minor": 5
}
