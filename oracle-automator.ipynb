{
 "cells": [
  {
   "cell_type": "code",
   "execution_count": 1,
   "id": "6c525b72",
   "metadata": {},
   "outputs": [],
   "source": [
    "import pyautogui"
   ]
  },
  {
   "cell_type": "code",
   "execution_count": 6,
   "id": "528add59",
   "metadata": {},
   "outputs": [
    {
     "name": "stdout",
     "output_type": "stream",
     "text": [
      "1440 900\n"
     ]
    }
   ],
   "source": [
    "#build dataframe from excel of required fields: receiving site and manifest #\n",
    "screenWidth, screenHeight = pyautogui.size()\n",
    "print(screenWidth, screenHeight)\n"
   ]
  },
  {
   "cell_type": "code",
   "execution_count": 11,
   "id": "d4dc95f2",
   "metadata": {},
   "outputs": [],
   "source": [
    "pyautogui.moveTo(1200, 800)"
   ]
  }
 ],
 "metadata": {
  "kernelspec": {
   "display_name": "Python 3 (ipykernel)",
   "language": "python",
   "name": "python3"
  },
  "language_info": {
   "codemirror_mode": {
    "name": "ipython",
    "version": 3
   },
   "file_extension": ".py",
   "mimetype": "text/x-python",
   "name": "python",
   "nbconvert_exporter": "python",
   "pygments_lexer": "ipython3",
   "version": "3.9.13"
  }
 },
 "nbformat": 4,
 "nbformat_minor": 5
}
